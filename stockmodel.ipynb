{
 "cells": [
  {
   "cell_type": "code",
   "execution_count": 2,
   "id": "1272c181-f92a-4ed0-bc11-b6d4b9ce7cd6",
   "metadata": {},
   "outputs": [],
   "source": [
    "import numpy as np\n",
    "import pandas as pd\n",
    "import matplotlib.pyplot as plt\n",
    "import seaborn as sns\n",
    "import pandas_datareader as data\n",
    "import yfinance as yf"
   ]
  },
  {
   "cell_type": "code",
   "execution_count": 4,
   "id": "f9cef8e5-1429-4080-8060-a61c04159420",
   "metadata": {},
   "outputs": [
    {
     "name": "stdout",
     "output_type": "stream",
     "text": [
      "[*********************100%***********************]  1 of 1 completed\n"
     ]
    },
    {
     "data": {
      "text/html": [
       "<div>\n",
       "<style scoped>\n",
       "    .dataframe tbody tr th:only-of-type {\n",
       "        vertical-align: middle;\n",
       "    }\n",
       "\n",
       "    .dataframe tbody tr th {\n",
       "        vertical-align: top;\n",
       "    }\n",
       "\n",
       "    .dataframe thead th {\n",
       "        text-align: right;\n",
       "    }\n",
       "</style>\n",
       "<table border=\"1\" class=\"dataframe\">\n",
       "  <thead>\n",
       "    <tr style=\"text-align: right;\">\n",
       "      <th></th>\n",
       "      <th>Open</th>\n",
       "      <th>High</th>\n",
       "      <th>Low</th>\n",
       "      <th>Close</th>\n",
       "      <th>Adj Close</th>\n",
       "      <th>Volume</th>\n",
       "    </tr>\n",
       "    <tr>\n",
       "      <th>Date</th>\n",
       "      <th></th>\n",
       "      <th></th>\n",
       "      <th></th>\n",
       "      <th></th>\n",
       "      <th></th>\n",
       "      <th></th>\n",
       "    </tr>\n",
       "  </thead>\n",
       "  <tbody>\n",
       "    <tr>\n",
       "      <th>2009-12-31</th>\n",
       "      <td>4.6775</td>\n",
       "      <td>4.7375</td>\n",
       "      <td>4.6650</td>\n",
       "      <td>4.6700</td>\n",
       "      <td>4.284380</td>\n",
       "      <td>70034000</td>\n",
       "    </tr>\n",
       "    <tr>\n",
       "      <th>2010-01-04</th>\n",
       "      <td>4.6275</td>\n",
       "      <td>4.6550</td>\n",
       "      <td>4.5275</td>\n",
       "      <td>4.6225</td>\n",
       "      <td>4.240800</td>\n",
       "      <td>80020400</td>\n",
       "    </tr>\n",
       "    <tr>\n",
       "      <th>2010-01-05</th>\n",
       "      <td>4.6050</td>\n",
       "      <td>4.7400</td>\n",
       "      <td>4.6050</td>\n",
       "      <td>4.6900</td>\n",
       "      <td>4.302727</td>\n",
       "      <td>72864800</td>\n",
       "    </tr>\n",
       "    <tr>\n",
       "      <th>2010-01-06</th>\n",
       "      <td>4.6875</td>\n",
       "      <td>4.7300</td>\n",
       "      <td>4.6425</td>\n",
       "      <td>4.7200</td>\n",
       "      <td>4.330250</td>\n",
       "      <td>64916800</td>\n",
       "    </tr>\n",
       "    <tr>\n",
       "      <th>2010-01-07</th>\n",
       "      <td>4.6950</td>\n",
       "      <td>4.7150</td>\n",
       "      <td>4.5925</td>\n",
       "      <td>4.6275</td>\n",
       "      <td>4.245388</td>\n",
       "      <td>54779200</td>\n",
       "    </tr>\n",
       "  </tbody>\n",
       "</table>\n",
       "</div>"
      ],
      "text/plain": [
       "              Open    High     Low   Close  Adj Close    Volume\n",
       "Date                                                           \n",
       "2009-12-31  4.6775  4.7375  4.6650  4.6700   4.284380  70034000\n",
       "2010-01-04  4.6275  4.6550  4.5275  4.6225   4.240800  80020400\n",
       "2010-01-05  4.6050  4.7400  4.6050  4.6900   4.302727  72864800\n",
       "2010-01-06  4.6875  4.7300  4.6425  4.7200   4.330250  64916800\n",
       "2010-01-07  4.6950  4.7150  4.5925  4.6275   4.245388  54779200"
      ]
     },
     "execution_count": 4,
     "metadata": {},
     "output_type": "execute_result"
    }
   ],
   "source": [
    "start = '2010-01-01'\n",
    "end = '2023-7-30'\n",
    "\n",
    "df =yf.download('NVDA',start,end)\n",
    "df.head()"
   ]
  },
  {
   "cell_type": "code",
   "execution_count": 5,
   "id": "2a18c4d6-28f5-420f-8566-26530c09caa5",
   "metadata": {},
   "outputs": [
    {
     "data": {
      "text/plain": [
       "(3416, 6)"
      ]
     },
     "execution_count": 5,
     "metadata": {},
     "output_type": "execute_result"
    }
   ],
   "source": [
    "df.shape"
   ]
  },
  {
   "cell_type": "code",
   "execution_count": 6,
   "id": "5a21ee55-b4b4-4b3e-9ab1-6bf0d6401b57",
   "metadata": {
    "scrolled": true
   },
   "outputs": [
    {
     "data": {
      "text/html": [
       "<div>\n",
       "<style scoped>\n",
       "    .dataframe tbody tr th:only-of-type {\n",
       "        vertical-align: middle;\n",
       "    }\n",
       "\n",
       "    .dataframe tbody tr th {\n",
       "        vertical-align: top;\n",
       "    }\n",
       "\n",
       "    .dataframe thead th {\n",
       "        text-align: right;\n",
       "    }\n",
       "</style>\n",
       "<table border=\"1\" class=\"dataframe\">\n",
       "  <thead>\n",
       "    <tr style=\"text-align: right;\">\n",
       "      <th></th>\n",
       "      <th>Open</th>\n",
       "      <th>High</th>\n",
       "      <th>Low</th>\n",
       "      <th>Close</th>\n",
       "      <th>Adj Close</th>\n",
       "      <th>Volume</th>\n",
       "    </tr>\n",
       "    <tr>\n",
       "      <th>Date</th>\n",
       "      <th></th>\n",
       "      <th></th>\n",
       "      <th></th>\n",
       "      <th></th>\n",
       "      <th></th>\n",
       "      <th></th>\n",
       "    </tr>\n",
       "  </thead>\n",
       "  <tbody>\n",
       "    <tr>\n",
       "      <th>2023-07-24</th>\n",
       "      <td>447.309998</td>\n",
       "      <td>451.089996</td>\n",
       "      <td>440.399994</td>\n",
       "      <td>446.119995</td>\n",
       "      <td>446.083252</td>\n",
       "      <td>38251600</td>\n",
       "    </tr>\n",
       "    <tr>\n",
       "      <th>2023-07-25</th>\n",
       "      <td>449.410004</td>\n",
       "      <td>461.829987</td>\n",
       "      <td>449.230011</td>\n",
       "      <td>456.790009</td>\n",
       "      <td>456.752380</td>\n",
       "      <td>34808100</td>\n",
       "    </tr>\n",
       "    <tr>\n",
       "      <th>2023-07-26</th>\n",
       "      <td>460.209991</td>\n",
       "      <td>460.529999</td>\n",
       "      <td>446.299988</td>\n",
       "      <td>454.519989</td>\n",
       "      <td>454.482544</td>\n",
       "      <td>36423700</td>\n",
       "    </tr>\n",
       "    <tr>\n",
       "      <th>2023-07-27</th>\n",
       "      <td>465.190002</td>\n",
       "      <td>473.950012</td>\n",
       "      <td>457.500000</td>\n",
       "      <td>459.000000</td>\n",
       "      <td>458.962189</td>\n",
       "      <td>45597600</td>\n",
       "    </tr>\n",
       "    <tr>\n",
       "      <th>2023-07-28</th>\n",
       "      <td>466.679993</td>\n",
       "      <td>470.269989</td>\n",
       "      <td>463.809998</td>\n",
       "      <td>467.500000</td>\n",
       "      <td>467.461487</td>\n",
       "      <td>33119400</td>\n",
       "    </tr>\n",
       "  </tbody>\n",
       "</table>\n",
       "</div>"
      ],
      "text/plain": [
       "                  Open        High         Low       Close   Adj Close  \\\n",
       "Date                                                                     \n",
       "2023-07-24  447.309998  451.089996  440.399994  446.119995  446.083252   \n",
       "2023-07-25  449.410004  461.829987  449.230011  456.790009  456.752380   \n",
       "2023-07-26  460.209991  460.529999  446.299988  454.519989  454.482544   \n",
       "2023-07-27  465.190002  473.950012  457.500000  459.000000  458.962189   \n",
       "2023-07-28  466.679993  470.269989  463.809998  467.500000  467.461487   \n",
       "\n",
       "              Volume  \n",
       "Date                  \n",
       "2023-07-24  38251600  \n",
       "2023-07-25  34808100  \n",
       "2023-07-26  36423700  \n",
       "2023-07-27  45597600  \n",
       "2023-07-28  33119400  "
      ]
     },
     "execution_count": 6,
     "metadata": {},
     "output_type": "execute_result"
    }
   ],
   "source": [
    "df.tail()"
   ]
  },
  {
   "cell_type": "code",
   "execution_count": 7,
   "id": "914b5567-ad73-4710-acbf-e05bcfa2d602",
   "metadata": {},
   "outputs": [],
   "source": [
    "df= df.reset_index()"
   ]
  },
  {
   "cell_type": "code",
   "execution_count": 8,
   "id": "f208b128-8b84-4318-9c78-ba3510ccafab",
   "metadata": {},
   "outputs": [
    {
     "data": {
      "text/html": [
       "<div>\n",
       "<style scoped>\n",
       "    .dataframe tbody tr th:only-of-type {\n",
       "        vertical-align: middle;\n",
       "    }\n",
       "\n",
       "    .dataframe tbody tr th {\n",
       "        vertical-align: top;\n",
       "    }\n",
       "\n",
       "    .dataframe thead th {\n",
       "        text-align: right;\n",
       "    }\n",
       "</style>\n",
       "<table border=\"1\" class=\"dataframe\">\n",
       "  <thead>\n",
       "    <tr style=\"text-align: right;\">\n",
       "      <th></th>\n",
       "      <th>Date</th>\n",
       "      <th>Open</th>\n",
       "      <th>High</th>\n",
       "      <th>Low</th>\n",
       "      <th>Close</th>\n",
       "      <th>Adj Close</th>\n",
       "      <th>Volume</th>\n",
       "    </tr>\n",
       "  </thead>\n",
       "  <tbody>\n",
       "    <tr>\n",
       "      <th>0</th>\n",
       "      <td>2009-12-31</td>\n",
       "      <td>4.677500</td>\n",
       "      <td>4.737500</td>\n",
       "      <td>4.665000</td>\n",
       "      <td>4.670000</td>\n",
       "      <td>4.284380</td>\n",
       "      <td>70034000</td>\n",
       "    </tr>\n",
       "    <tr>\n",
       "      <th>1</th>\n",
       "      <td>2010-01-04</td>\n",
       "      <td>4.627500</td>\n",
       "      <td>4.655000</td>\n",
       "      <td>4.527500</td>\n",
       "      <td>4.622500</td>\n",
       "      <td>4.240800</td>\n",
       "      <td>80020400</td>\n",
       "    </tr>\n",
       "    <tr>\n",
       "      <th>2</th>\n",
       "      <td>2010-01-05</td>\n",
       "      <td>4.605000</td>\n",
       "      <td>4.740000</td>\n",
       "      <td>4.605000</td>\n",
       "      <td>4.690000</td>\n",
       "      <td>4.302727</td>\n",
       "      <td>72864800</td>\n",
       "    </tr>\n",
       "    <tr>\n",
       "      <th>3</th>\n",
       "      <td>2010-01-06</td>\n",
       "      <td>4.687500</td>\n",
       "      <td>4.730000</td>\n",
       "      <td>4.642500</td>\n",
       "      <td>4.720000</td>\n",
       "      <td>4.330250</td>\n",
       "      <td>64916800</td>\n",
       "    </tr>\n",
       "    <tr>\n",
       "      <th>4</th>\n",
       "      <td>2010-01-07</td>\n",
       "      <td>4.695000</td>\n",
       "      <td>4.715000</td>\n",
       "      <td>4.592500</td>\n",
       "      <td>4.627500</td>\n",
       "      <td>4.245388</td>\n",
       "      <td>54779200</td>\n",
       "    </tr>\n",
       "    <tr>\n",
       "      <th>...</th>\n",
       "      <td>...</td>\n",
       "      <td>...</td>\n",
       "      <td>...</td>\n",
       "      <td>...</td>\n",
       "      <td>...</td>\n",
       "      <td>...</td>\n",
       "      <td>...</td>\n",
       "    </tr>\n",
       "    <tr>\n",
       "      <th>3411</th>\n",
       "      <td>2023-07-24</td>\n",
       "      <td>447.309998</td>\n",
       "      <td>451.089996</td>\n",
       "      <td>440.399994</td>\n",
       "      <td>446.119995</td>\n",
       "      <td>446.083252</td>\n",
       "      <td>38251600</td>\n",
       "    </tr>\n",
       "    <tr>\n",
       "      <th>3412</th>\n",
       "      <td>2023-07-25</td>\n",
       "      <td>449.410004</td>\n",
       "      <td>461.829987</td>\n",
       "      <td>449.230011</td>\n",
       "      <td>456.790009</td>\n",
       "      <td>456.752380</td>\n",
       "      <td>34808100</td>\n",
       "    </tr>\n",
       "    <tr>\n",
       "      <th>3413</th>\n",
       "      <td>2023-07-26</td>\n",
       "      <td>460.209991</td>\n",
       "      <td>460.529999</td>\n",
       "      <td>446.299988</td>\n",
       "      <td>454.519989</td>\n",
       "      <td>454.482544</td>\n",
       "      <td>36423700</td>\n",
       "    </tr>\n",
       "    <tr>\n",
       "      <th>3414</th>\n",
       "      <td>2023-07-27</td>\n",
       "      <td>465.190002</td>\n",
       "      <td>473.950012</td>\n",
       "      <td>457.500000</td>\n",
       "      <td>459.000000</td>\n",
       "      <td>458.962189</td>\n",
       "      <td>45597600</td>\n",
       "    </tr>\n",
       "    <tr>\n",
       "      <th>3415</th>\n",
       "      <td>2023-07-28</td>\n",
       "      <td>466.679993</td>\n",
       "      <td>470.269989</td>\n",
       "      <td>463.809998</td>\n",
       "      <td>467.500000</td>\n",
       "      <td>467.461487</td>\n",
       "      <td>33119400</td>\n",
       "    </tr>\n",
       "  </tbody>\n",
       "</table>\n",
       "<p>3416 rows × 7 columns</p>\n",
       "</div>"
      ],
      "text/plain": [
       "           Date        Open        High         Low       Close   Adj Close  \\\n",
       "0    2009-12-31    4.677500    4.737500    4.665000    4.670000    4.284380   \n",
       "1    2010-01-04    4.627500    4.655000    4.527500    4.622500    4.240800   \n",
       "2    2010-01-05    4.605000    4.740000    4.605000    4.690000    4.302727   \n",
       "3    2010-01-06    4.687500    4.730000    4.642500    4.720000    4.330250   \n",
       "4    2010-01-07    4.695000    4.715000    4.592500    4.627500    4.245388   \n",
       "...         ...         ...         ...         ...         ...         ...   \n",
       "3411 2023-07-24  447.309998  451.089996  440.399994  446.119995  446.083252   \n",
       "3412 2023-07-25  449.410004  461.829987  449.230011  456.790009  456.752380   \n",
       "3413 2023-07-26  460.209991  460.529999  446.299988  454.519989  454.482544   \n",
       "3414 2023-07-27  465.190002  473.950012  457.500000  459.000000  458.962189   \n",
       "3415 2023-07-28  466.679993  470.269989  463.809998  467.500000  467.461487   \n",
       "\n",
       "        Volume  \n",
       "0     70034000  \n",
       "1     80020400  \n",
       "2     72864800  \n",
       "3     64916800  \n",
       "4     54779200  \n",
       "...        ...  \n",
       "3411  38251600  \n",
       "3412  34808100  \n",
       "3413  36423700  \n",
       "3414  45597600  \n",
       "3415  33119400  \n",
       "\n",
       "[3416 rows x 7 columns]"
      ]
     },
     "execution_count": 8,
     "metadata": {},
     "output_type": "execute_result"
    }
   ],
   "source": [
    "df"
   ]
  },
  {
   "cell_type": "code",
   "execution_count": 9,
   "id": "918e383b-33de-48ed-9a78-ab79f9e6bc2d",
   "metadata": {},
   "outputs": [
    {
     "data": {
      "text/plain": [
       "[<matplotlib.lines.Line2D at 0x23961bad390>]"
      ]
     },
     "execution_count": 9,
     "metadata": {},
     "output_type": "execute_result"
    },
    {
     "data": {
      "image/png": "[encoded data removed]",
      "text/plain": [
       "<Figure size 640x480 with 1 Axes>"
      ]
     },
     "metadata": {},
     "output_type": "display_data"
    }
   ],
   "source": [
    "plt.plot(df['Close'])"
   ]
  },
  {
   "cell_type": "code",
   "execution_count": 10,
   "id": "104c0348-5658-4c71-8fed-8ce69ef7ad9c",
   "metadata": {},
   "outputs": [
    {
     "name": "stdout",
     "output_type": "stream",
     "text": [
      "0            NaN\n",
      "1            NaN\n",
      "2            NaN\n",
      "3            NaN\n",
      "4            NaN\n",
      "          ...   \n",
      "3411    330.0657\n",
      "3412    332.3638\n",
      "3413    334.5776\n",
      "3414    336.7786\n",
      "3415    339.0982\n",
      "Name: Close, Length: 3416, dtype: float64\n"
     ]
    }
   ],
   "source": [
    "ma100 = df.Close.rolling(100).mean()\n",
    "print(ma100)"
   ]
  },
  {
   "cell_type": "code",
   "execution_count": 11,
   "id": "f975ede4-7716-498b-b721-2f51feb4e4a5",
   "metadata": {},
   "outputs": [
    {
     "data": {
      "image/png": "[encoded data removed]",
      "text/plain": [
       "<Figure size 1000x500 with 1 Axes>"
      ]
     },
     "metadata": {},
     "output_type": "display_data"
    }
   ],
   "source": [
    "plt.figure(figsize= (10,5))\n",
    "plt.plot(df.Close)\n",
    "plt.plot(ma100 , color = 'yellow')\n",
    "plt.show()"
   ]
  },
  {
   "cell_type": "code",
   "execution_count": 12,
   "id": "db63b3b9-2693-4d5f-9da8-45355b77f2e8",
   "metadata": {},
   "outputs": [
    {
     "data": {
      "image/png": "[encoded data removed]",
      "text/plain": [
       "<Figure size 1000x500 with 1 Axes>"
      ]
     },
     "metadata": {},
     "output_type": "display_data"
    }
   ],
   "source": [
    "ma200= df.Close.rolling(200).mean()\n",
    "plt.figure(figsize= (10,5))\n",
    "plt.plot(df.Close)\n",
    "plt.plot(ma100 , color = 'yellow')\n",
    "plt.plot(ma200 , color = 'red')\n",
    "\n",
    "plt.show()"
   ]
  },
  {
   "cell_type": "code",
   "execution_count": 13,
   "id": "76d3caa5-c493-4074-a19c-bc0ea68c5adc",
   "metadata": {},
   "outputs": [
    {
     "name": "stdout",
     "output_type": "stream",
     "text": [
      " taining  (2391, 1)\n",
      " testing  (1025, 1)\n"
     ]
    }
   ],
   "source": [
    "#spltting data into train test \n",
    "data_training = pd.DataFrame(df['Close'][0:int(len(df)*0.70)])\n",
    "data_testing = pd.DataFrame(df['Close'][int(len(df)*0.70):int(len(df))])\n",
    "\n",
    "print(' taining ', data_training.shape)\n",
    "print(' testing ', data_testing.shape)"
   ]
  },
  {
   "cell_type": "code",
   "execution_count": 14,
   "id": "4657c456-4bc3-40c3-965d-67bc033b9a4c",
   "metadata": {},
   "outputs": [],
   "source": [
    "from sklearn.preprocessing import MinMaxScaler\n",
    "scaler = MinMaxScaler(feature_range = (0,1))"
   ]
  },
  {
   "cell_type": "code",
   "execution_count": 17,
   "id": "728e800c-02d4-4c1e-97bd-1b479b67fbe0",
   "metadata": {},
   "outputs": [
    {
     "name": "stderr",
     "output_type": "stream",
     "text": [
      "C:\\Users\\ALISHA\\AppData\\Local\\Programs\\Python\\Python310\\lib\\site-packages\\sklearn\\utils\\validation.py:767: FutureWarning: is_sparse is deprecated and will be removed in a future version. Check `isinstance(dtype, pd.SparseDtype)` instead.\n",
      "  if not hasattr(array, \"sparse\") and array.dtypes.apply(is_sparse).any():\n",
      "C:\\Users\\ALISHA\\AppData\\Local\\Programs\\Python\\Python310\\lib\\site-packages\\sklearn\\utils\\validation.py:605: FutureWarning: is_sparse is deprecated and will be removed in a future version. Check `isinstance(dtype, pd.SparseDtype)` instead.\n",
      "  if is_sparse(pd_dtype):\n",
      "C:\\Users\\ALISHA\\AppData\\Local\\Programs\\Python\\Python310\\lib\\site-packages\\sklearn\\utils\\validation.py:614: FutureWarning: is_sparse is deprecated and will be removed in a future version. Check `isinstance(dtype, pd.SparseDtype)` instead.\n",
      "  if is_sparse(pd_dtype) or not is_extension_array_dtype(pd_dtype):\n",
      "C:\\Users\\ALISHA\\AppData\\Local\\Programs\\Python\\Python310\\lib\\site-packages\\sklearn\\utils\\validation.py:767: FutureWarning: is_sparse is deprecated and will be removed in a future version. Check `isinstance(dtype, pd.SparseDtype)` instead.\n",
      "  if not hasattr(array, \"sparse\") and array.dtypes.apply(is_sparse).any():\n",
      "C:\\Users\\ALISHA\\AppData\\Local\\Programs\\Python\\Python310\\lib\\site-packages\\sklearn\\utils\\validation.py:605: FutureWarning: is_sparse is deprecated and will be removed in a future version. Check `isinstance(dtype, pd.SparseDtype)` instead.\n",
      "  if is_sparse(pd_dtype):\n",
      "C:\\Users\\ALISHA\\AppData\\Local\\Programs\\Python\\Python310\\lib\\site-packages\\sklearn\\utils\\validation.py:614: FutureWarning: is_sparse is deprecated and will be removed in a future version. Check `isinstance(dtype, pd.SparseDtype)` instead.\n",
      "  if is_sparse(pd_dtype) or not is_extension_array_dtype(pd_dtype):\n"
     ]
    }
   ],
   "source": [
    "data_training_array = scaler.fit_transform(data_training)"
   ]
  },
  {
   "cell_type": "code",
   "execution_count": 18,
   "id": "601d2730-22c9-4077-8536-ecc7637ba039",
   "metadata": {},
   "outputs": [
    {
     "data": {
      "text/plain": [
       "array([[0.03494011],\n",
       "       [0.03426269],\n",
       "       [0.03522533],\n",
       "       ...,\n",
       "       [0.55387195],\n",
       "       [0.56078867],\n",
       "       [0.54674131]])"
      ]
     },
     "execution_count": 18,
     "metadata": {},
     "output_type": "execute_result"
    }
   ],
   "source": [
    "data_training_array"
   ]
  },
  {
   "cell_type": "code",
   "execution_count": 19,
   "id": "820b891c-bff5-427a-9081-0fefc1412b4a",
   "metadata": {},
   "outputs": [],
   "source": [
    "x_train = []\n",
    "y_train = []\n",
    "\n",
    "for i in range(100 ,data_training_array.shape[0]):\n",
    "    x_train.append(data_training_array[i-100: i])\n",
    "    y_train.append(data_training_array[i,0])\n",
    "    \n",
    "x_train, y_train = np.array(x_train), np.array(y_train)"
   ]
  },
  {
   "cell_type": "code",
   "execution_count": 20,
   "id": "a2511a74-9f29-45c2-945a-f211fba78a68",
   "metadata": {},
   "outputs": [],
   "source": [
    "#ML model \n",
    "from keras.layers import Dense , Dropout , LSTM\n",
    "from keras.models import Sequential"
   ]
  },
  {
   "cell_type": "code",
   "execution_count": 21,
   "id": "c5118e79-37ec-4d52-bd30-413642fbb5c4",
   "metadata": {},
   "outputs": [],
   "source": [
    "model = Sequential()\n",
    "\n",
    "model.add(LSTM(units=50, activation='relu', return_sequences=True, input_shape=(x_train.shape[1], 1)))\n",
    "model.add(Dropout(0.2))\n",
    "\n",
    "model.add(LSTM(units=60, activation='relu', return_sequences=True))\n",
    "model.add(Dropout(0.3))\n",
    "\n",
    "model.add(LSTM(units=80, activation='relu', return_sequences=True))\n",
    "model.add(Dropout(0.4))\n",
    "\n",
    "model.add(LSTM(units=120, activation='relu'))\n",
    "model.add(Dropout(0.5))\n",
    "\n",
    "model.add(Dense(units=1))"
   ]
  },
  {
   "cell_type": "code",
   "execution_count": 22,
   "id": "cffb02ad-b4d7-4204-b869-2a7d82a4a817",
   "metadata": {},
   "outputs": [
    {
     "name": "stdout",
     "output_type": "stream",
     "text": [
      "Model: \"sequential\"\n",
      "_________________________________________________________________\n",
      " Layer (type)                Output Shape              Param #   \n",
      "=================================================================\n",
      " lstm (LSTM)                 (None, 100, 50)           10400     \n",
      "                                                                 \n",
      " dropout (Dropout)           (None, 100, 50)           0         \n",
      "                                                                 \n",
      " lstm_1 (LSTM)               (None, 100, 60)           26640     \n",
      "                                                                 \n",
      " dropout_1 (Dropout)         (None, 100, 60)           0         \n",
      "                                                                 \n",
      " lstm_2 (LSTM)               (None, 100, 80)           45120     \n",
      "                                                                 \n",
      " dropout_2 (Dropout)         (None, 100, 80)           0         \n",
      "                                                                 \n",
      " lstm_3 (LSTM)               (None, 120)               96480     \n",
      "                                                                 \n",
      " dropout_3 (Dropout)         (None, 120)               0         \n",
      "                                                                 \n",
      " dense (Dense)               (None, 1)                 121       \n",
      "                                                                 \n",
      "=================================================================\n",
      "Total params: 178761 (698.29 KB)\n",
      "Trainable params: 178761 (698.29 KB)\n",
      "Non-trainable params: 0 (0.00 Byte)\n",
      "_________________________________________________________________\n"
     ]
    }
   ],
   "source": [
    "model.summary()"
   ]
  },
  {
   "cell_type": "code",
   "execution_count": 23,
   "id": "3872eb73-e634-4b64-b8bc-cb3952b849b1",
   "metadata": {},
   "outputs": [
    {
     "name": "stdout",
     "output_type": "stream",
     "text": [
      "Epoch 1/50\n",
      "72/72 [==============================] - 15s 157ms/step - loss: 0.0236\n",
      "Epoch 2/50\n",
      "72/72 [==============================] - 11s 152ms/step - loss: 0.0046\n",
      "Epoch 3/50\n",
      "72/72 [==============================] - 11s 153ms/step - loss: 0.0040\n",
      "Epoch 4/50\n",
      "72/72 [==============================] - 11s 152ms/step - loss: 0.0050\n",
      "Epoch 5/50\n",
      "72/72 [==============================] - 11s 152ms/step - loss: 0.0046\n",
      "Epoch 6/50\n",
      "72/72 [==============================] - 11s 151ms/step - loss: 0.0046\n",
      "Epoch 7/50\n",
      "72/72 [==============================] - 11s 153ms/step - loss: 0.0033\n",
      "Epoch 8/50\n",
      "72/72 [==============================] - 12s 160ms/step - loss: 0.0031\n",
      "Epoch 9/50\n",
      "72/72 [==============================] - 12s 173ms/step - loss: 0.0040\n",
      "Epoch 10/50\n",
      "72/72 [==============================] - 12s 162ms/step - loss: 0.0034\n",
      "Epoch 11/50\n",
      "72/72 [==============================] - 11s 160ms/step - loss: 0.0032\n",
      "Epoch 12/50\n",
      "72/72 [==============================] - 12s 160ms/step - loss: 0.0035\n",
      "Epoch 13/50\n",
      "72/72 [==============================] - 12s 160ms/step - loss: 0.0033\n",
      "Epoch 14/50\n",
      "72/72 [==============================] - 12s 161ms/step - loss: 0.0033\n",
      "Epoch 15/50\n",
      "72/72 [==============================] - 12s 165ms/step - loss: 0.0029\n",
      "Epoch 16/50\n",
      "72/72 [==============================] - 12s 162ms/step - loss: 0.0031\n",
      "Epoch 17/50\n",
      "72/72 [==============================] - 12s 165ms/step - loss: 0.0029\n",
      "Epoch 18/50\n",
      "72/72 [==============================] - 12s 163ms/step - loss: 0.0032\n",
      "Epoch 19/50\n",
      "72/72 [==============================] - 13s 175ms/step - loss: 0.0031\n",
      "Epoch 20/50\n",
      "72/72 [==============================] - 12s 173ms/step - loss: 0.0030\n",
      "Epoch 21/50\n",
      "72/72 [==============================] - 12s 165ms/step - loss: 0.0028\n",
      "Epoch 22/50\n",
      "72/72 [==============================] - 12s 164ms/step - loss: 0.0028\n",
      "Epoch 23/50\n",
      "72/72 [==============================] - 12s 165ms/step - loss: 0.0027\n",
      "Epoch 24/50\n",
      "72/72 [==============================] - 12s 163ms/step - loss: 0.0028\n",
      "Epoch 25/50\n",
      "72/72 [==============================] - 12s 165ms/step - loss: 0.0025\n",
      "Epoch 26/50\n",
      "72/72 [==============================] - 12s 164ms/step - loss: 0.0028\n",
      "Epoch 27/50\n",
      "72/72 [==============================] - 12s 165ms/step - loss: 0.0023\n",
      "Epoch 28/50\n",
      "72/72 [==============================] - 12s 166ms/step - loss: 0.0029\n",
      "Epoch 29/50\n",
      "72/72 [==============================] - 13s 175ms/step - loss: 0.0027\n",
      "Epoch 30/50\n",
      "72/72 [==============================] - 13s 174ms/step - loss: 0.0024\n",
      "Epoch 31/50\n",
      "72/72 [==============================] - 13s 185ms/step - loss: 0.0026\n",
      "Epoch 32/50\n",
      "72/72 [==============================] - 14s 194ms/step - loss: 0.0027\n",
      "Epoch 33/50\n",
      "72/72 [==============================] - 13s 185ms/step - loss: 0.0027\n",
      "Epoch 34/50\n",
      "72/72 [==============================] - 14s 196ms/step - loss: 0.0025\n",
      "Epoch 35/50\n",
      "72/72 [==============================] - 14s 191ms/step - loss: 0.0024\n",
      "Epoch 36/50\n",
      "72/72 [==============================] - 14s 188ms/step - loss: 0.0024\n",
      "Epoch 37/50\n",
      "72/72 [==============================] - 14s 192ms/step - loss: 0.0023\n",
      "Epoch 38/50\n",
      "72/72 [==============================] - 14s 201ms/step - loss: 0.0024\n",
      "Epoch 39/50\n",
      "72/72 [==============================] - 14s 196ms/step - loss: 0.0023\n",
      "Epoch 40/50\n",
      "72/72 [==============================] - 13s 184ms/step - loss: 0.0021\n",
      "Epoch 41/50\n",
      "72/72 [==============================] - 13s 175ms/step - loss: 0.0024\n",
      "Epoch 42/50\n",
      "72/72 [==============================] - 14s 201ms/step - loss: 0.0025\n",
      "Epoch 43/50\n",
      "72/72 [==============================] - 13s 185ms/step - loss: 0.0026\n",
      "Epoch 44/50\n",
      "72/72 [==============================] - 13s 178ms/step - loss: 0.0024\n",
      "Epoch 45/50\n",
      "72/72 [==============================] - 12s 171ms/step - loss: 0.0021\n",
      "Epoch 46/50\n",
      "72/72 [==============================] - 12s 168ms/step - loss: 0.0025\n",
      "Epoch 47/50\n",
      "72/72 [==============================] - 12s 165ms/step - loss: 0.0025\n",
      "Epoch 48/50\n",
      "72/72 [==============================] - 14s 192ms/step - loss: 0.0023\n",
      "Epoch 49/50\n",
      "72/72 [==============================] - 12s 164ms/step - loss: 0.0027\n",
      "Epoch 50/50\n",
      "72/72 [==============================] - 12s 164ms/step - loss: 0.0023\n"
     ]
    },
    {
     "data": {
      "text/plain": [
       "<keras.src.callbacks.History at 0x2396c854850>"
      ]
     },
     "execution_count": 23,
     "metadata": {},
     "output_type": "execute_result"
    }
   ],
   "source": [
    "model.compile(optimizer = 'adam', loss = 'mean_squared_error')\n",
    "model.fit(x_train , y_train , epochs = 50 )"
   ]
  },
  {
   "cell_type": "code",
   "execution_count": 27,
   "id": "9e2f43cf-d57c-4ceb-a870-b6d70c97d62f",
   "metadata": {},
   "outputs": [],
   "source": [
    "model.save('model.h5')"
   ]
  },
  {
   "cell_type": "code",
   "execution_count": 28,
   "id": "e16c038d-5d59-4306-9893-296c3513fb7f",
   "metadata": {},
   "outputs": [
    {
     "data": {
      "text/html": [
       "<div>\n",
       "<style scoped>\n",
       "    .dataframe tbody tr th:only-of-type {\n",
       "        vertical-align: middle;\n",
       "    }\n",
       "\n",
       "    .dataframe tbody tr th {\n",
       "        vertical-align: top;\n",
       "    }\n",
       "\n",
       "    .dataframe thead th {\n",
       "        text-align: right;\n",
       "    }\n",
       "</style>\n",
       "<table border=\"1\" class=\"dataframe\">\n",
       "  <thead>\n",
       "    <tr style=\"text-align: right;\">\n",
       "      <th></th>\n",
       "      <th>Close</th>\n",
       "    </tr>\n",
       "  </thead>\n",
       "  <tbody>\n",
       "    <tr>\n",
       "      <th>2391</th>\n",
       "      <td>40.687500</td>\n",
       "    </tr>\n",
       "    <tr>\n",
       "      <th>2392</th>\n",
       "      <td>40.057499</td>\n",
       "    </tr>\n",
       "    <tr>\n",
       "      <th>2393</th>\n",
       "      <td>39.302502</td>\n",
       "    </tr>\n",
       "    <tr>\n",
       "      <th>2394</th>\n",
       "      <td>39.327499</td>\n",
       "    </tr>\n",
       "    <tr>\n",
       "      <th>2395</th>\n",
       "      <td>40.014999</td>\n",
       "    </tr>\n",
       "  </tbody>\n",
       "</table>\n",
       "</div>"
      ],
      "text/plain": [
       "          Close\n",
       "2391  40.687500\n",
       "2392  40.057499\n",
       "2393  39.302502\n",
       "2394  39.327499\n",
       "2395  40.014999"
      ]
     },
     "execution_count": 28,
     "metadata": {},
     "output_type": "execute_result"
    }
   ],
   "source": [
    "data_testing.head()"
   ]
  },
  {
   "cell_type": "code",
   "execution_count": 29,
   "id": "5424c634-633b-476a-94d3-a70290e1a599",
   "metadata": {},
   "outputs": [],
   "source": [
    "pass_100_days = data_training.tail(100)"
   ]
  },
  {
   "cell_type": "code",
   "execution_count": 30,
   "id": "898185d3-b74a-47e6-93eb-7f26fdb07dad",
   "metadata": {},
   "outputs": [],
   "source": [
    "final_df = pd.concat([pass_100_days, data_testing], ignore_index=True)"
   ]
  },
  {
   "cell_type": "code",
   "execution_count": 31,
   "id": "f5b8eb6e-305d-41ec-9b76-a80600e74610",
   "metadata": {},
   "outputs": [
    {
     "name": "stderr",
     "output_type": "stream",
     "text": [
      "C:\\Users\\ALISHA\\AppData\\Local\\Programs\\Python\\Python310\\lib\\site-packages\\sklearn\\utils\\validation.py:767: FutureWarning: is_sparse is deprecated and will be removed in a future version. Check `isinstance(dtype, pd.SparseDtype)` instead.\n",
      "  if not hasattr(array, \"sparse\") and array.dtypes.apply(is_sparse).any():\n",
      "C:\\Users\\ALISHA\\AppData\\Local\\Programs\\Python\\Python310\\lib\\site-packages\\sklearn\\utils\\validation.py:605: FutureWarning: is_sparse is deprecated and will be removed in a future version. Check `isinstance(dtype, pd.SparseDtype)` instead.\n",
      "  if is_sparse(pd_dtype):\n",
      "C:\\Users\\ALISHA\\AppData\\Local\\Programs\\Python\\Python310\\lib\\site-packages\\sklearn\\utils\\validation.py:614: FutureWarning: is_sparse is deprecated and will be removed in a future version. Check `isinstance(dtype, pd.SparseDtype)` instead.\n",
      "  if is_sparse(pd_dtype) or not is_extension_array_dtype(pd_dtype):\n",
      "C:\\Users\\ALISHA\\AppData\\Local\\Programs\\Python\\Python310\\lib\\site-packages\\sklearn\\utils\\validation.py:767: FutureWarning: is_sparse is deprecated and will be removed in a future version. Check `isinstance(dtype, pd.SparseDtype)` instead.\n",
      "  if not hasattr(array, \"sparse\") and array.dtypes.apply(is_sparse).any():\n",
      "C:\\Users\\ALISHA\\AppData\\Local\\Programs\\Python\\Python310\\lib\\site-packages\\sklearn\\utils\\validation.py:605: FutureWarning: is_sparse is deprecated and will be removed in a future version. Check `isinstance(dtype, pd.SparseDtype)` instead.\n",
      "  if is_sparse(pd_dtype):\n",
      "C:\\Users\\ALISHA\\AppData\\Local\\Programs\\Python\\Python310\\lib\\site-packages\\sklearn\\utils\\validation.py:614: FutureWarning: is_sparse is deprecated and will be removed in a future version. Check `isinstance(dtype, pd.SparseDtype)` instead.\n",
      "  if is_sparse(pd_dtype) or not is_extension_array_dtype(pd_dtype):\n"
     ]
    },
    {
     "data": {
      "text/plain": [
       "array([[0.00814845],\n",
       "       [0.00717449],\n",
       "       [0.00984722],\n",
       "       ...,\n",
       "       [0.95374803],\n",
       "       [0.9638954 ],\n",
       "       [0.98314816]])"
      ]
     },
     "execution_count": 31,
     "metadata": {},
     "output_type": "execute_result"
    }
   ],
   "source": [
    "input_data = scaler.fit_transform(final_df)\n",
    "input_data"
   ]
  },
  {
   "cell_type": "code",
   "execution_count": 32,
   "id": "46bcb00d-4602-4638-9fc8-8a38da9dd837",
   "metadata": {},
   "outputs": [
    {
     "data": {
      "text/plain": [
       "(1125, 1)"
      ]
     },
     "execution_count": 32,
     "metadata": {},
     "output_type": "execute_result"
    }
   ],
   "source": [
    "input_data.shape"
   ]
  },
  {
   "cell_type": "code",
   "execution_count": 33,
   "id": "32dbce88-cd2c-47ea-9ca5-2a5be2628d6a",
   "metadata": {},
   "outputs": [],
   "source": [
    "x_test = []\n",
    "y_test = []\n",
    "\n",
    "for i in range(100 , input_data.shape[0]):\n",
    "    x_test.append(input_data[i-100:i])\n",
    "    y_test.append(input_data[i,0])\n",
    "x_test, y_test = np.array(x_test), np.array(y_test)"
   ]
  },
  {
   "cell_type": "code",
   "execution_count": 34,
   "id": "fd8549df-5f47-4c19-b449-c1e6da377653",
   "metadata": {},
   "outputs": [
    {
     "name": "stdout",
     "output_type": "stream",
     "text": [
      "(1025, 100, 1)\n",
      "(1025,)\n"
     ]
    }
   ],
   "source": [
    "x_test, y_test = np.array(x_test) , np.array(y_test)\n",
    "print(x_test.shape)\n",
    "print(y_test.shape)"
   ]
  },
  {
   "cell_type": "code",
   "execution_count": 35,
   "id": "62692200-a67c-4688-89eb-8645dfe465f9",
   "metadata": {},
   "outputs": [
    {
     "name": "stdout",
     "output_type": "stream",
     "text": [
      "33/33 [==============================] - 2s 50ms/step\n"
     ]
    }
   ],
   "source": [
    "y_predicted = model.predict(x_test)"
   ]
  },
  {
   "cell_type": "code",
   "execution_count": 36,
   "id": "80c67fb1-0e6b-45d9-b324-d593c5200c7d",
   "metadata": {},
   "outputs": [
    {
     "data": {
      "text/plain": [
       "(1025, 1)"
      ]
     },
     "execution_count": 36,
     "metadata": {},
     "output_type": "execute_result"
    }
   ],
   "source": [
    "y_predicted.shape"
   ]
  },
  {
   "cell_type": "code",
   "execution_count": 37,
   "id": "bec1077d-c84c-4aff-afce-28dd559cd925",
   "metadata": {
    "scrolled": true
   },
   "outputs": [
    {
     "data": {
      "text/plain": [
       "array([0.01640449, 0.01497752, 0.01326743, ..., 0.95374803, 0.9638954 ,\n",
       "       0.98314816])"
      ]
     },
     "execution_count": 37,
     "metadata": {},
     "output_type": "execute_result"
    }
   ],
   "source": [
    "y_test"
   ]
  },
  {
   "cell_type": "code",
   "execution_count": 39,
   "id": "b1ae5e50-12fa-4786-a233-09da9206674b",
   "metadata": {
    "scrolled": true
   },
   "outputs": [
    {
     "data": {
      "text/plain": [
       "array([[0.01886141],\n",
       "       [0.01905803],\n",
       "       [0.01928914],\n",
       "       ...,\n",
       "       [0.8571297 ],\n",
       "       [0.85791343],\n",
       "       [0.8583742 ]], dtype=float32)"
      ]
     },
     "execution_count": 39,
     "metadata": {},
     "output_type": "execute_result"
    }
   ],
   "source": [
    "y_predicted"
   ]
  },
  {
   "cell_type": "code",
   "execution_count": 40,
   "id": "63b36021-7bac-4951-ae7b-056d3f86642f",
   "metadata": {},
   "outputs": [
    {
     "data": {
      "text/plain": [
       "array([0.00226503])"
      ]
     },
     "execution_count": 40,
     "metadata": {},
     "output_type": "execute_result"
    }
   ],
   "source": [
    "scaler.scale_"
   ]
  },
  {
   "cell_type": "code",
   "execution_count": 42,
   "id": "b5273018-c756-4ed8-bc0f-4536f9a94410",
   "metadata": {},
   "outputs": [],
   "source": [
    "scale_factor = 1/0.00226503\n",
    "y_predicted = y_predicted*scale_factor\n",
    "y_test = y_test*scale_factor"
   ]
  },
  {
   "cell_type": "code",
   "execution_count": 44,
   "id": "274f941b-41f0-4d90-a383-ddfc7e5e25aa",
   "metadata": {},
   "outputs": [
    {
     "data": {
      "image/png": "[encoded data removed]",
      "text/plain": [
       "<Figure size 1200x600 with 1 Axes>"
      ]
     },
     "metadata": {},
     "output_type": "display_data"
    }
   ],
   "source": [
    "plt.figure(figsize= (12,6))\n",
    "plt.plot(y_test , 'b', label = 'Original Price')\n",
    "plt.plot(y_predicted , 'r', label = 'predicted Price')\n",
    "\n",
    "plt.xlabel('time')\n",
    "plt.ylabel('price')\n",
    "plt.legend()\n",
    "plt.show()"
   ]
  },
  {
   "cell_type": "code",
   "execution_count": null,
   "id": "e13b8fa3-01d8-4fb4-9e51-84200f63518d",
   "metadata": {},
   "outputs": [],
   "source": []
  }
 ],
 "metadata": {
  "kernelspec": {
   "display_name": "Python 3 (ipykernel)",
   "language": "python",
   "name": "python3"
  },
  "language_info": {
   "codemirror_mode": {
    "name": "ipython",
    "version": 3
   },
   "file_extension": ".py",
   "mimetype": "text/x-python",
   "name": "python",
   "nbconvert_exporter": "python",
   "pygments_lexer": "ipython3",
   "version": "3.10.9"
  }
 },
 "nbformat": 4,
 "nbformat_minor": 5
}
